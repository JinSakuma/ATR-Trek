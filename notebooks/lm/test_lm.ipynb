{
 "cells": [
  {
   "cell_type": "code",
   "execution_count": 1,
   "id": "0d0839b0",
   "metadata": {},
   "outputs": [],
   "source": [
    "import os\n",
    "import json\n",
    "import random\n",
    "import torch\n",
    "import argparse\n",
    "import numpy as np\n",
    "import pandas as pd\n",
    "import matplotlib.pyplot as plt\n",
    "from dotmap import DotMap\n",
    "from tqdm import tqdm\n",
    "\n",
    "import sys\n",
    "sys.path.append('../../')\n",
    "\n",
    "from src.datasets.dataset_lm import get_dataloader, get_dataset\n",
    "from src.utils.utils import load_config\n",
    "from src.models.lm.model import LSTMLM"
   ]
  },
  {
   "cell_type": "code",
   "execution_count": 2,
   "id": "b3610568",
   "metadata": {},
   "outputs": [],
   "source": [
    "def seed_everything(seed):\n",
    "    random.seed(seed)\n",
    "    torch.manual_seed(seed)\n",
    "    torch.cuda.manual_seed_all(seed)\n",
    "    np.random.seed(seed)\n",
    "    os.environ['PYTHONHASHSEED'] = str(seed)"
   ]
  },
  {
   "cell_type": "code",
   "execution_count": 6,
   "id": "250afd5b",
   "metadata": {},
   "outputs": [],
   "source": [
    "config_path = '../../configs/lm/char_lstm_l1.json'\n",
    "config = load_config(config_path)\n",
    "seed_everything(config.seed)\n",
    "# if args.gpuid >= 0:\n",
    "config.gpu_device = 0\n",
    "\n",
    "# if config.cuda:\n",
    "#     device = torch.device('cuda:{}'.format(config.gpu_device))\n",
    "# else:\n",
    "device = torch.device('cpu')"
   ]
  },
  {
   "cell_type": "code",
   "execution_count": 10,
   "id": "e61b8e65",
   "metadata": {},
   "outputs": [
    {
     "name": "stderr",
     "output_type": "stream",
     "text": [
      "100%|██████████| 13/13 [00:00<00:00, 15.85it/s]\n"
     ]
    }
   ],
   "source": [
    "test_dataset = get_dataset(config, 1, 'test', [\"sub5\"], ['M1'])\n",
    "\n",
    "test_loader = get_dataloader(test_dataset, config, 'test')"
   ]
  },
  {
   "cell_type": "code",
   "execution_count": 11,
   "id": "efa8a55e",
   "metadata": {},
   "outputs": [
    {
     "data": {
      "text/plain": [
       "LSTMLM(\n",
       "  (lm): LSTMModel(\n",
       "    (embed): Embedding(2307, 300, padding_idx=0)\n",
       "    (lstm): LSTM(300, 512, batch_first=True)\n",
       "    (fc): Linear(in_features=512, out_features=2307, bias=True)\n",
       "    (criterion): CrossEntropyLoss()\n",
       "  )\n",
       ")"
      ]
     },
     "execution_count": 11,
     "metadata": {},
     "output_type": "execute_result"
    }
   ],
   "source": [
    "self = LSTMLM(config, device)\n",
    "\n",
    "path = \"/mnt/aoni04/jsakuma/development/ATR-Trek/exp/lm_cv2/char/M1/lstm_l1_lr4_weighted3_parallel/cv1/best_val_bacc_model.pth\"\n",
    "\n",
    "self.load_state_dict(torch.load(path))#, strict=False)\n",
    "self.to(device)"
   ]
  },
  {
   "cell_type": "code",
   "execution_count": 12,
   "id": "6b8c15a0",
   "metadata": {},
   "outputs": [],
   "source": [
    "path = '/mnt/aoni04/jsakuma/development/espnet-g05-1.8/egs2/atr6/asr1/data/my_token_list/char/tokens.txt'\n",
    "with open(path) as f:\n",
    "    lines =f.readlines()\n",
    "    \n",
    "tokens = [line.split()[0] for line in lines]\n",
    "\n",
    "def token2idx(token): \n",
    "    if token != token or token == '':\n",
    "        return [0]\n",
    "    \n",
    "    token = token.replace('<eou>', '')\n",
    "    idxs = [tokens.index(t) for t in token]+[len(tokens)-1]\n",
    "    \n",
    "    return idxs\n",
    "\n",
    "def idx2token(idxs): \n",
    "    token = [tokens[idx] for idx in idxs]\n",
    "    \n",
    "    return token\n"
   ]
  },
  {
   "cell_type": "markdown",
   "id": "05a51afc",
   "metadata": {},
   "source": [
    "# bAcc"
   ]
  },
  {
   "cell_type": "code",
   "execution_count": 13,
   "id": "a2e48313",
   "metadata": {},
   "outputs": [
    {
     "name": "stderr",
     "output_type": "stream",
     "text": [
      "100%|██████████| 3/3 [00:00<00:00,  5.36it/s]"
     ]
    },
    {
     "name": "stdout",
     "output_type": "stream",
     "text": [
      "0.7906976744186046\n",
      "0.9262737369212245\n",
      "0.8584857056699146\n"
     ]
    },
    {
     "name": "stderr",
     "output_type": "stream",
     "text": [
      "\n"
     ]
    }
   ],
   "source": [
    "EOU=2306\n",
    "\n",
    "tpr, tnr, bAcc = 0, 0, 0\n",
    "total = 0\n",
    "for batch in tqdm(test_loader):\n",
    "    texts = batch[0]\n",
    "    phons = batch[1]\n",
    "    idxs = batch[2]\n",
    "    input_lengths = batch[3]\n",
    "    indices = batch[4]    \n",
    "#     contexts = batch[5]\n",
    "#     context_lengths = batch[6]\n",
    "#     pre_spks = batch[6]\n",
    "    batch_size = len(indices)\n",
    "    \n",
    "    inputs = idxs[:, :-1].to(self.device)\n",
    "    targets = idxs[:, 1:].to(self.device)\n",
    "\n",
    "    with torch.no_grad():\n",
    "        outputs = self.lm(inputs, input_lengths)#, contexts, context_lengths)    \n",
    "        _, preds = torch.max(outputs.data, -1)\n",
    "        \n",
    "    for i in range(batch_size):\n",
    "        prd = preds[i][:input_lengths[i]].detach().cpu()\n",
    "        trt = targets[i][:input_lengths[i]].detach().cpu()\n",
    "\n",
    "        TP, FP, FN, TN = 0, 0, 0, 0\n",
    "        for j in range(len(prd)):\n",
    "            if trt[j]==EOU and prd[j]==EOU:\n",
    "                TP+=1\n",
    "            elif trt[j]==EOU and prd[j]!=EOU:\n",
    "                FN+=1\n",
    "            elif trt[j]!=EOU and prd[j]==EOU:\n",
    "                FP+=1\n",
    "            else:\n",
    "                TN+=1\n",
    "\n",
    "        if TP+FN>0:\n",
    "            tpr += TP / (TP+FN)            \n",
    "        else:\n",
    "            tpr += 0\n",
    "            \n",
    "        #if TP<=0:\n",
    "        #print(indices[i], texts[i])\n",
    "            \n",
    "            \n",
    "        tnr += TN / (TN+FP)\n",
    "        bAcc += (tpr+tnr)/2\n",
    "\n",
    "    total+=batch_size\n",
    "    \n",
    "tpr = tpr / total\n",
    "tnr = tnr / total\n",
    "bAcc = (tpr+tnr)/2\n",
    "print(tpr)\n",
    "print(tnr)\n",
    "print(bAcc)"
   ]
  },
  {
   "cell_type": "code",
   "execution_count": 14,
   "id": "87cea09c",
   "metadata": {},
   "outputs": [
    {
     "name": "stderr",
     "output_type": "stream",
     "text": [
      "100%|██████████| 3/3 [00:00<00:00,  6.00it/s]"
     ]
    },
    {
     "name": "stdout",
     "output_type": "stream",
     "text": [
      "1.1578515263519427\n"
     ]
    },
    {
     "name": "stderr",
     "output_type": "stream",
     "text": [
      "\n"
     ]
    }
   ],
   "source": [
    "import torch.nn.functional as F\n",
    "import math\n",
    "EOU=2306\n",
    "\n",
    "tpr, tnr, bAcc = 0, 0, 0\n",
    "total = 0\n",
    "total_loss = 0\n",
    "for batch in tqdm(test_loader):\n",
    "    texts = batch[0]\n",
    "    phons = batch[1]\n",
    "    idxs = batch[2]\n",
    "    input_lengths = batch[3]\n",
    "    indices = batch[4]    \n",
    "#     contexts = batch[5]\n",
    "#     context_lengths = batch[6]\n",
    "#     pre_spks = batch[6]\n",
    "    batch_size = len(indices)\n",
    "    \n",
    "    inputs = idxs[:, :-1].to(self.device)\n",
    "    targets = idxs[:, 1:].to(self.device)\n",
    "\n",
    "    with torch.no_grad():\n",
    "        outputs = self.lm(inputs, input_lengths)#, contexts, context_lengths)    \n",
    "        _, preds = torch.max(outputs.data, -1)\n",
    "        \n",
    "        out = []\n",
    "        label = []\n",
    "        for i in range(batch_size):\n",
    "            out.append(outputs[i, :input_lengths[i], :][-10:, :])\n",
    "            label.append(targets[i, :input_lengths[i]][-10:])\n",
    "        \n",
    "        loss = F.cross_entropy(torch.cat(out).view(-1, 2307), torch.cat(label).reshape(-1))\n",
    "        total_loss += loss.item()\n",
    "        total+=batch_size\n",
    "        \n",
    "ppl = math.exp(total_loss / total)\n",
    "print(ppl)"
   ]
  },
  {
   "cell_type": "code",
   "execution_count": null,
   "id": "6f6d30b6",
   "metadata": {},
   "outputs": [],
   "source": []
  },
  {
   "cell_type": "markdown",
   "id": "0eb449d6",
   "metadata": {},
   "source": [
    "# Algorithm"
   ]
  },
  {
   "cell_type": "code",
   "execution_count": 15,
   "id": "39014f7c",
   "metadata": {},
   "outputs": [],
   "source": [
    "from queue import PriorityQueue\n",
    "import operator"
   ]
  },
  {
   "cell_type": "code",
   "execution_count": 16,
   "id": "2d2cb0e4",
   "metadata": {},
   "outputs": [],
   "source": [
    "class BeamSearchNode(object):\n",
    "    def __init__(self, hidden_state, previousNode, wordId, prob, length):\n",
    "        '''\n",
    "        :param hiddenstate:\n",
    "        :param previousNode:\n",
    "        :param wordId:\n",
    "        :param logProb:\n",
    "        :param length:\n",
    "        '''\n",
    "        self.hidden_state = hidden_state\n",
    "        self.prevNode = previousNode\n",
    "        self.wordid = wordId\n",
    "        self.prob = prob\n",
    "        self.leng = length\n",
    "\n",
    "    def eval(self, alpha=1.0):\n",
    "        reward = 0\n",
    "        # Add here a function for shaping a reward\n",
    "\n",
    "        return self.logp / float(self.leng - 1 + 1e-6) + alpha * reward"
   ]
  },
  {
   "cell_type": "code",
   "execution_count": 17,
   "id": "0ce08917",
   "metadata": {},
   "outputs": [],
   "source": [
    "MAX_LENGTH = 10\n",
    "beam_width = 3\n",
    "EOU_id = 2306 # 1314\n",
    "eou_probs = []\n",
    "\n",
    "\n",
    "def get_nodes(inp):\n",
    "    endnodes = []\n",
    "    with torch.no_grad():\n",
    "        #inp = inputs[IDX, :START]\n",
    "        decoder_output, hidden = self.lm.forward_step(inp.unsqueeze(0))\n",
    "        prob = torch.softmax(decoder_output, dim=-1)\n",
    "\n",
    "        eou_probs.append(prob[0][0][2306].item())\n",
    "        #eou_probs.append(prob[0][0][125].item())\n",
    "\n",
    "        prob_, indexes = torch.topk(prob, beam_width)\n",
    "        prob_ = prob_[0][-1] \n",
    "        indexes = indexes[0][-1]\n",
    "\n",
    "        n_end = 0\n",
    "        cur_nodes = PriorityQueue()\n",
    "        for i in range(len(indexes)):        \n",
    "            n = BeamSearchNode(hidden, None, indexes[i], prob_[i], 1)\n",
    "            cur_nodes.put((-prob_[i], n))\n",
    "\n",
    "        cnt = 1\n",
    "        while True:\n",
    "            if cur_nodes.qsize()== 0: \n",
    "                #print('B')\n",
    "                break\n",
    "\n",
    "            if cnt >= MAX_LENGTH:\n",
    "                for bw in range(beam_width):\n",
    "                #for bw in range(beam_width-n_end):\n",
    "                    p, cur_node = cur_nodes.get()\n",
    "                    endnodes.append(cur_node)\n",
    "                    #print('A')\n",
    "                break\n",
    "\n",
    "    #         elif n_end >= beam_width:\n",
    "    #             break\n",
    "\n",
    "            nxt_nodes = PriorityQueue()\n",
    "\n",
    "            eou_prob_tmp = 0\n",
    "            for bw in range(beam_width):\n",
    "            #for bw in range(beam_width-n_end):\n",
    "                if cur_nodes.qsize()== 0:            \n",
    "                    break\n",
    "\n",
    "                p, cur_node = cur_nodes.get()            \n",
    "                idx = cur_node.wordid\n",
    "                hidden = cur_node.hidden_state\n",
    "\n",
    "                if cur_node.wordid.item() == EOU_id:\n",
    "                    n_end+=1\n",
    "                    endnodes.append(cur_node)\n",
    "                    continue\n",
    "\n",
    "                decoder_output, hidden = self.lm.forward_step(idx.unsqueeze(0).unsqueeze(0), hidden)\n",
    "                prob = torch.softmax(decoder_output, dim=-1)\n",
    "\n",
    "                prob_, indexes = torch.topk(prob, beam_width)\n",
    "                prob_ = prob_[0][-1] \n",
    "                indexes = indexes[0][-1]\n",
    "\n",
    "                for i in range(len(indexes)):                                    \n",
    "                    #n = BeamSearchNode(hidden, cur_node, indexes[i], cur_node.prob+prob_[i]/float(cnt+1), cnt+1)\n",
    "                    n = BeamSearchNode(hidden, cur_node, indexes[i], cur_node.prob*prob_[i], cnt+1)\n",
    "                    nxt_nodes.put((-prob_[i], n))\n",
    "\n",
    "            cur_nodes = nxt_nodes                \n",
    "            cnt += 1\n",
    "            \n",
    "    return  endnodes"
   ]
  },
  {
   "cell_type": "code",
   "execution_count": 19,
   "id": "e2ac94a5",
   "metadata": {},
   "outputs": [
    {
     "name": "stderr",
     "output_type": "stream",
     "text": [
      "100%|██████████| 90/90 [00:29<00:00,  3.05it/s]\n"
     ]
    }
   ],
   "source": [
    "from src.datasets.dataset_timing import get_dataloader, get_dataset\n",
    "\n",
    "config_path = '../../configs/timing/timing_proposed_s1234.json'\n",
    "config2 = load_config(config_path)\n",
    "\n",
    "test_dataset2 = get_dataset(config2, 1, split='test', subsets=[\"M1_all\"], speaker_list=['M1'])"
   ]
  },
  {
   "cell_type": "code",
   "execution_count": 20,
   "id": "ea1c63bb",
   "metadata": {},
   "outputs": [],
   "source": [
    "def clean(sentence):\n",
    "    for remove in [\"はいはいはいはい\", \"はいはいはいは\", \"はいはいはい\", \"はいはいは\", \"はいはい\", \"はいは\", \"はい\", \"は\"]:  \n",
    "        if sentence != remove and sentence[-len(remove):]==remove:\n",
    "            sentence = sentence[:-len(remove)]\n",
    "            break\n",
    "\n",
    "    return sentence\n",
    "\n",
    "def clean_id(sentence):\n",
    "    for remove in [[22,3,22,3,22,3,22,3], [22,3,22,3,22,3,22], [22,3,22,3,22,3], [22,3,22,3,22], [22,3,22,3], [22,3,22], [22,3], [22]]:  \n",
    "        if sentence != remove and sentence[-len(remove):]==remove:\n",
    "            sentence = sentence[:-len(remove)]\n",
    "            break\n",
    "\n",
    "    return sentence"
   ]
  },
  {
   "cell_type": "code",
   "execution_count": null,
   "id": "0d569f19",
   "metadata": {},
   "outputs": [],
   "source": []
  },
  {
   "cell_type": "code",
   "execution_count": 21,
   "id": "7887d786",
   "metadata": {},
   "outputs": [
    {
     "name": "stderr",
     "output_type": "stream",
     "text": [
      "100%|██████████| 247/247 [00:32<00:00,  7.72it/s]\n"
     ]
    }
   ],
   "source": [
    "data = test_dataset2.data\n",
    "total = len(data)\n",
    "score_list = []\n",
    "text_list = []\n",
    "gen_list = []\n",
    "for j in tqdm(range(total)):\n",
    "    texts = data[j]['text']\n",
    "    idxs = data[j]['idx']\n",
    "#     context = data[j]['context']\n",
    "#     context_length = len(context)\n",
    "\n",
    "    target = data[j]['target']\n",
    "    timing = np.where(target==1)[0][0]\n",
    "\n",
    "    utt = []\n",
    "    id_list = []\n",
    "    con_list = []\n",
    "    len_list = []\n",
    "    nums = []\n",
    "    pre = ''\n",
    "    ipre = 0\n",
    "    time_list = []\n",
    "    for i, text in enumerate(texts):\n",
    "        if timing<i:\n",
    "            utt.append(texts[ipre+8])\n",
    "            nums.append(len(texts[ipre+8]))\n",
    "            id_list.append(idxs[ipre+8])\n",
    "#             con_list.append(context)\n",
    "#             len_list.append(context_length)\n",
    "            time_list.append((ipre+8)*50)\n",
    "            eou = ipre\n",
    "            break\n",
    "\n",
    "        if text != pre:\n",
    "            utt.append(clean(text))\n",
    "            #utt.append(text)\n",
    "            nums.append(len(text))\n",
    "            id_list.append(clean_id(idxs[i]))\n",
    "#             con_list.append(context)\n",
    "#             len_list.append(context_length)\n",
    "            #id_list.append(idxs[i])\n",
    "            time_list.append(i*50)\n",
    "            pre = text\n",
    "            ipre = i\n",
    "    \n",
    "    tt = np.array([eou*50 - t for t in time_list])\n",
    "    scores = []\n",
    "    asr_results = []\n",
    "    gen_results = []\n",
    "    for i in [1000, 400, 200, 50, -400]:\n",
    "        if i == -400:\n",
    "            idx = len(tt)-1\n",
    "        else:\n",
    "            idx = np.where(tt<i)[0][0]-1\n",
    "\n",
    "        inp = torch.tensor(id_list[idx]).to(device)\n",
    "        endnodes = get_nodes(inp) \n",
    "                    \n",
    "        asr_results.append(utt[idx])\n",
    "            \n",
    "        utterances = []\n",
    "        n_score = np.zeros(MAX_LENGTH)\n",
    "        total = 0\n",
    "        for node in endnodes:\n",
    "            utterance = []\n",
    "            n = node\n",
    "            score = n.prob\n",
    "            while n is not None:\n",
    "                utterance.append(n.wordid.item())        \n",
    "                n = n.prevNode        \n",
    "\n",
    "            utterances.append(utterance[::-1])\n",
    "            n_score[len(utterance)-1:]+=score.item()\n",
    "            total += score.item()\n",
    "            \n",
    "        scores.append(n_score)\n",
    "        gen_results.append(utterances)\n",
    "        \n",
    "#     flg = False\n",
    "#     for gens in gen_results[-1]:\n",
    "#         if gens[-1]==2306:\n",
    "#             flg=True\n",
    "#             break\n",
    "                \n",
    "#     if flg:\n",
    "    scores= np.vstack(scores)\n",
    "    score_list.append(scores)  \n",
    "    text_list.append(asr_results)\n",
    "    gen_list.append(gen_results)\n",
    "    #     plt.plot(n_score, label='{}ms'.format(i), marker='x')\n",
    "\n",
    "    # plt.legend()\n",
    "    # plt.xlabel(\"Num of words\")\n",
    "    # plt.ylabel(\"prob\")"
   ]
  },
  {
   "cell_type": "code",
   "execution_count": null,
   "id": "58fd94c1",
   "metadata": {},
   "outputs": [],
   "source": []
  },
  {
   "cell_type": "code",
   "execution_count": 22,
   "id": "3b448860",
   "metadata": {},
   "outputs": [
    {
     "data": {
      "text/plain": [
       "([[2306],\n",
       "  [3, 2306],\n",
       "  [19, 2306],\n",
       "  [19, 2, 2306],\n",
       "  [19, 2, 6, 2306],\n",
       "  [19, 2, 37, 805, 3, 12, 8, 10, 2306],\n",
       "  [19, 2, 37, 442, 27, 703, 12, 7, 24, 20],\n",
       "  [19, 2, 37, 442, 27, 703, 12, 7, 3, 16],\n",
       "  [19, 2, 37, 442, 27, 703, 12, 7, 3, 24]],\n",
       " array([0.3800126 , 0.43200709, 0.4329857 , 0.4338505 , 0.4338505 ,\n",
       "        0.4338505 , 0.4338505 , 0.4338505 , 0.4338816 , 0.43388457]),\n",
       " ['きとかあの新大阪とかその辺り',\n",
       "  'きとかあの新大阪とかその辺りなります',\n",
       "  'きとかあの新大阪とかその辺りなります',\n",
       "  'きとかあの新大阪とかその辺りなります',\n",
       "  'きとかあの新大阪とかその辺りなりますはい'])"
      ]
     },
     "execution_count": 22,
     "metadata": {},
     "output_type": "execute_result"
    }
   ],
   "source": [
    "i=3\n",
    "gen_list[i][-1], score_list[i][-1], text_list[i]"
   ]
  },
  {
   "cell_type": "code",
   "execution_count": null,
   "id": "7c444562",
   "metadata": {},
   "outputs": [],
   "source": []
  },
  {
   "cell_type": "code",
   "execution_count": 23,
   "id": "6293dc74",
   "metadata": {},
   "outputs": [
    {
     "data": {
      "image/png": "[encoded data removed]",
      "text/plain": [
       "<Figure size 504x432 with 1 Axes>"
      ]
     },
     "metadata": {
      "needs_background": "light"
     },
     "output_type": "display_data"
    }
   ],
   "source": [
    "SIZE=16\n",
    "\n",
    "plt.figure(figsize=(7, 6))\n",
    "\n",
    "mean = np.mean(score_list, axis=0)\n",
    "var = np.var(score_list, axis=0)\n",
    "\n",
    "# ax1 = plt.subplot(1, 2, 1)\n",
    "# ax2 = plt.subplot(1, 2, 2)\n",
    "\n",
    "for i, t in enumerate([1000, 400, 200, 50, -400]):\n",
    "    plt.plot(np.arange(1, 11), mean[i], label='{}ms'.format(t), marker='o')\n",
    "#     ax2.plot(np.arange(1, 11), var[i], label='{}ms'.format(t), marker='o')\n",
    "\n",
    "plt.legend(bbox_to_anchor=(1, 1), loc='upper right', borderaxespad=2, fontsize=14)\n",
    "# ax1.title(\"variance\")\n",
    "plt.xlabel(\"x-th token generated by the language model\", fontsize=SIZE)\n",
    "plt.ylabel(\"Mean of the probability\", fontsize=SIZE)\n",
    "plt.xticks(np.arange(0, 12, 2))\n",
    "plt.tick_params(labelsize = 14)\n",
    "\n",
    "plt.show()"
   ]
  },
  {
   "cell_type": "code",
   "execution_count": null,
   "id": "329a5e6f",
   "metadata": {},
   "outputs": [],
   "source": []
  }
 ],
 "metadata": {
  "kernelspec": {
   "display_name": "Python 3",
   "language": "python",
   "name": "python3"
  },
  "language_info": {
   "codemirror_mode": {
    "name": "ipython",
    "version": 3
   },
   "file_extension": ".py",
   "mimetype": "text/x-python",
   "name": "python",
   "nbconvert_exporter": "python",
   "pygments_lexer": "ipython3",
   "version": "3.7.6"
  },
  "toc": {
   "base_numbering": 1,
   "nav_menu": {},
   "number_sections": true,
   "sideBar": true,
   "skip_h1_title": false,
   "title_cell": "Table of Contents",
   "title_sidebar": "Contents",
   "toc_cell": false,
   "toc_position": {},
   "toc_section_display": true,
   "toc_window_display": false
  }
 },
 "nbformat": 4,
 "nbformat_minor": 5
}
